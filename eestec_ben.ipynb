{
 "cells": [
  {
   "cell_type": "code",
   "execution_count": null,
   "id": "9b3bf35b",
   "metadata": {},
   "outputs": [],
   "source": [
    "#Load the data set:\n",
    "#necessary imports\n",
    "import torch\n",
    "import pandas as pd \n",
    "from torch.utils.data import Dataset, DataLoader\n",
    "\n",
    "dataset = pd.read_tsv('eestec_hackathon_2025_train.tsv' ,sep = '\\t',names=['ID', 'Label', 'Statement', 'Subjects', 'Speaker Name', 'Speaker Title', 'State', 'Party Affiliation', 'Credit History: barely-true', 'Credit History: false', 'Credit History: half-true', 'Credit History: mostly-true', 'Credit History: pants-fire', 'Context/Location'])"
   ]
  },
  {
   "cell_type": "code",
   "execution_count": null,
   "id": "08826190",
   "metadata": {},
   "outputs": [],
   "source": [
    "import csv\n",
    "import pandas as pd \n",
    "import torch\n",
    "import torchtext \n",
    "from torchtext.data import Field, TabularDataset\n",
    "\n",
    "Statement = Field(sequential =  True, lower = True, tokenize = \"spacy\", stop_words = \"english\")\n",
    "\n",
    " \n"
   ]
  }
 ],
 "metadata": {
  "language_info": {
   "name": "python"
  }
 },
 "nbformat": 4,
 "nbformat_minor": 5
}
